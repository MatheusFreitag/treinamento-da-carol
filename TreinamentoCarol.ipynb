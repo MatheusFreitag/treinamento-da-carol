{
 "cells": [
  {
   "cell_type": "markdown",
   "metadata": {},
   "source": [
    "# Análise de dados usando Python"
   ]
  },
  {
   "cell_type": "markdown",
   "metadata": {},
   "source": [
    "O dataset que vamos usar aqui hoje é fornecido pela ANAC (Agência Nacional de Aviação Civil), com todos os voos do país no período de 2005-2017, nos conformes da Lei de Acesso à Informação."
   ]
  },
  {
   "cell_type": "markdown",
   "metadata": {},
   "source": [
    "## Importando as bibliotecas que precisamos e o dataset"
   ]
  },
  {
   "cell_type": "code",
   "execution_count": 1,
   "metadata": {},
   "outputs": [],
   "source": [
    "import pandas as pd\n",
    "import numpy as np"
   ]
  },
  {
   "cell_type": "code",
   "execution_count": 2,
   "metadata": {},
   "outputs": [],
   "source": [
    "df = pd.read_csv('voosBR.csv', encoding=\"latin1\")"
   ]
  },
  {
   "cell_type": "markdown",
   "metadata": {},
   "source": [
    "## Como são os nossos dados?"
   ]
  },
  {
   "cell_type": "code",
   "execution_count": 3,
   "metadata": {
    "scrolled": true
   },
   "outputs": [
    {
     "data": {
      "text/html": [
       "<div>\n",
       "<style scoped>\n",
       "    .dataframe tbody tr th:only-of-type {\n",
       "        vertical-align: middle;\n",
       "    }\n",
       "\n",
       "    .dataframe tbody tr th {\n",
       "        vertical-align: top;\n",
       "    }\n",
       "\n",
       "    .dataframe thead th {\n",
       "        text-align: right;\n",
       "    }\n",
       "</style>\n",
       "<table border=\"1\" class=\"dataframe\">\n",
       "  <thead>\n",
       "    <tr style=\"text-align: right;\">\n",
       "      <th></th>\n",
       "      <th>Voos</th>\n",
       "      <th>Companhia.Aerea</th>\n",
       "      <th>Codigo.Tipo.Linha</th>\n",
       "      <th>Partida.Prevista</th>\n",
       "      <th>Partida.Real</th>\n",
       "      <th>Chegada.Prevista</th>\n",
       "      <th>Chegada.Real</th>\n",
       "      <th>Situacao.Voo</th>\n",
       "      <th>Codigo.Justificativa</th>\n",
       "      <th>Aeroporto.Origem</th>\n",
       "      <th>...</th>\n",
       "      <th>Estado.Origem</th>\n",
       "      <th>Pais.Origem</th>\n",
       "      <th>Aeroporto.Destino</th>\n",
       "      <th>Cidade.Destino</th>\n",
       "      <th>Estado.Destino</th>\n",
       "      <th>Pais.Destino</th>\n",
       "      <th>LongDest</th>\n",
       "      <th>LatDest</th>\n",
       "      <th>LongOrig</th>\n",
       "      <th>LatOrig</th>\n",
       "    </tr>\n",
       "  </thead>\n",
       "  <tbody>\n",
       "    <tr>\n",
       "      <th>0</th>\n",
       "      <td>AAL - 203</td>\n",
       "      <td>AMERICAN AIRLINES INC</td>\n",
       "      <td>Internacional</td>\n",
       "      <td>2016-01-30T08:58:00Z</td>\n",
       "      <td>2016-01-30T08:58:00Z</td>\n",
       "      <td>2016-01-30T10:35:00Z</td>\n",
       "      <td>2016-01-30T10:35:00Z</td>\n",
       "      <td>Realizado</td>\n",
       "      <td>NaN</td>\n",
       "      <td>Afonso Pena</td>\n",
       "      <td>...</td>\n",
       "      <td>PR</td>\n",
       "      <td>Brasil</td>\n",
       "      <td>Salgado Filho</td>\n",
       "      <td>Porto Alegre</td>\n",
       "      <td>RS</td>\n",
       "      <td>Brasil</td>\n",
       "      <td>-51.175381</td>\n",
       "      <td>-29.993473</td>\n",
       "      <td>-49.172481</td>\n",
       "      <td>-25.532713</td>\n",
       "    </tr>\n",
       "    <tr>\n",
       "      <th>1</th>\n",
       "      <td>AAL - 203</td>\n",
       "      <td>AMERICAN AIRLINES INC</td>\n",
       "      <td>Internacional</td>\n",
       "      <td>2016-01-13T12:13:00Z</td>\n",
       "      <td>2016-01-13T12:13:00Z</td>\n",
       "      <td>2016-01-13T21:30:00Z</td>\n",
       "      <td>2016-01-13T21:30:00Z</td>\n",
       "      <td>Realizado</td>\n",
       "      <td>NaN</td>\n",
       "      <td>Salgado Filho</td>\n",
       "      <td>...</td>\n",
       "      <td>RS</td>\n",
       "      <td>Brasil</td>\n",
       "      <td>Miami</td>\n",
       "      <td>Miami</td>\n",
       "      <td>N/I</td>\n",
       "      <td>Estados Unidos</td>\n",
       "      <td>-80.287046</td>\n",
       "      <td>25.795865</td>\n",
       "      <td>-51.175381</td>\n",
       "      <td>-29.993473</td>\n",
       "    </tr>\n",
       "    <tr>\n",
       "      <th>2</th>\n",
       "      <td>AAL - 203</td>\n",
       "      <td>AMERICAN AIRLINES INC</td>\n",
       "      <td>Internacional</td>\n",
       "      <td>2016-01-29T12:13:00Z</td>\n",
       "      <td>2016-01-29T12:13:00Z</td>\n",
       "      <td>2016-01-29T21:30:00Z</td>\n",
       "      <td>2016-01-29T21:30:00Z</td>\n",
       "      <td>Realizado</td>\n",
       "      <td>NaN</td>\n",
       "      <td>Salgado Filho</td>\n",
       "      <td>...</td>\n",
       "      <td>RS</td>\n",
       "      <td>Brasil</td>\n",
       "      <td>Miami</td>\n",
       "      <td>Miami</td>\n",
       "      <td>N/I</td>\n",
       "      <td>Estados Unidos</td>\n",
       "      <td>-80.287046</td>\n",
       "      <td>25.795865</td>\n",
       "      <td>-51.175381</td>\n",
       "      <td>-29.993473</td>\n",
       "    </tr>\n",
       "    <tr>\n",
       "      <th>3</th>\n",
       "      <td>AAL - 203</td>\n",
       "      <td>AMERICAN AIRLINES INC</td>\n",
       "      <td>Internacional</td>\n",
       "      <td>2016-01-19T12:13:00Z</td>\n",
       "      <td>2016-01-18T12:03:00Z</td>\n",
       "      <td>2016-01-19T21:30:00Z</td>\n",
       "      <td>2016-01-18T20:41:00Z</td>\n",
       "      <td>Realizado</td>\n",
       "      <td>LIBERACAO SERV. TRAFEGO AEREO/ANTECIPACAO</td>\n",
       "      <td>Salgado Filho</td>\n",
       "      <td>...</td>\n",
       "      <td>RS</td>\n",
       "      <td>Brasil</td>\n",
       "      <td>Miami</td>\n",
       "      <td>Miami</td>\n",
       "      <td>N/I</td>\n",
       "      <td>Estados Unidos</td>\n",
       "      <td>-80.287046</td>\n",
       "      <td>25.795865</td>\n",
       "      <td>-51.175381</td>\n",
       "      <td>-29.993473</td>\n",
       "    </tr>\n",
       "    <tr>\n",
       "      <th>4</th>\n",
       "      <td>AAL - 203</td>\n",
       "      <td>AMERICAN AIRLINES INC</td>\n",
       "      <td>Internacional</td>\n",
       "      <td>2016-01-30T12:13:00Z</td>\n",
       "      <td>2016-01-30T12:13:00Z</td>\n",
       "      <td>2016-01-30T21:30:00Z</td>\n",
       "      <td>2016-01-30T21:30:00Z</td>\n",
       "      <td>Realizado</td>\n",
       "      <td>NaN</td>\n",
       "      <td>Salgado Filho</td>\n",
       "      <td>...</td>\n",
       "      <td>RS</td>\n",
       "      <td>Brasil</td>\n",
       "      <td>Miami</td>\n",
       "      <td>Miami</td>\n",
       "      <td>N/I</td>\n",
       "      <td>Estados Unidos</td>\n",
       "      <td>-80.287046</td>\n",
       "      <td>25.795865</td>\n",
       "      <td>-51.175381</td>\n",
       "      <td>-29.993473</td>\n",
       "    </tr>\n",
       "  </tbody>\n",
       "</table>\n",
       "<p>5 rows × 21 columns</p>\n",
       "</div>"
      ],
      "text/plain": [
       "        Voos        Companhia.Aerea Codigo.Tipo.Linha      Partida.Prevista  \\\n",
       "0  AAL - 203  AMERICAN AIRLINES INC     Internacional  2016-01-30T08:58:00Z   \n",
       "1  AAL - 203  AMERICAN AIRLINES INC     Internacional  2016-01-13T12:13:00Z   \n",
       "2  AAL - 203  AMERICAN AIRLINES INC     Internacional  2016-01-29T12:13:00Z   \n",
       "3  AAL - 203  AMERICAN AIRLINES INC     Internacional  2016-01-19T12:13:00Z   \n",
       "4  AAL - 203  AMERICAN AIRLINES INC     Internacional  2016-01-30T12:13:00Z   \n",
       "\n",
       "           Partida.Real      Chegada.Prevista          Chegada.Real  \\\n",
       "0  2016-01-30T08:58:00Z  2016-01-30T10:35:00Z  2016-01-30T10:35:00Z   \n",
       "1  2016-01-13T12:13:00Z  2016-01-13T21:30:00Z  2016-01-13T21:30:00Z   \n",
       "2  2016-01-29T12:13:00Z  2016-01-29T21:30:00Z  2016-01-29T21:30:00Z   \n",
       "3  2016-01-18T12:03:00Z  2016-01-19T21:30:00Z  2016-01-18T20:41:00Z   \n",
       "4  2016-01-30T12:13:00Z  2016-01-30T21:30:00Z  2016-01-30T21:30:00Z   \n",
       "\n",
       "  Situacao.Voo                       Codigo.Justificativa Aeroporto.Origem  \\\n",
       "0    Realizado                                        NaN      Afonso Pena   \n",
       "1    Realizado                                        NaN    Salgado Filho   \n",
       "2    Realizado                                        NaN    Salgado Filho   \n",
       "3    Realizado  LIBERACAO SERV. TRAFEGO AEREO/ANTECIPACAO    Salgado Filho   \n",
       "4    Realizado                                        NaN    Salgado Filho   \n",
       "\n",
       "     ...     Estado.Origem Pais.Origem Aeroporto.Destino Cidade.Destino  \\\n",
       "0    ...                PR      Brasil     Salgado Filho   Porto Alegre   \n",
       "1    ...                RS      Brasil             Miami          Miami   \n",
       "2    ...                RS      Brasil             Miami          Miami   \n",
       "3    ...                RS      Brasil             Miami          Miami   \n",
       "4    ...                RS      Brasil             Miami          Miami   \n",
       "\n",
       "  Estado.Destino    Pais.Destino   LongDest    LatDest   LongOrig    LatOrig  \n",
       "0             RS          Brasil -51.175381 -29.993473 -49.172481 -25.532713  \n",
       "1            N/I  Estados Unidos -80.287046  25.795865 -51.175381 -29.993473  \n",
       "2            N/I  Estados Unidos -80.287046  25.795865 -51.175381 -29.993473  \n",
       "3            N/I  Estados Unidos -80.287046  25.795865 -51.175381 -29.993473  \n",
       "4            N/I  Estados Unidos -80.287046  25.795865 -51.175381 -29.993473  \n",
       "\n",
       "[5 rows x 21 columns]"
      ]
     },
     "execution_count": 3,
     "metadata": {},
     "output_type": "execute_result"
    }
   ],
   "source": [
    "df.head()"
   ]
  },
  {
   "cell_type": "markdown",
   "metadata": {},
   "source": [
    "## Quais colunas temos pra trabalhar?"
   ]
  },
  {
   "cell_type": "code",
   "execution_count": 15,
   "metadata": {},
   "outputs": [
    {
     "data": {
      "text/plain": [
       "Index(['Voos', 'Companhia.Aerea', 'Codigo.Tipo.Linha', 'Partida.Prevista',\n",
       "       'Partida.Real', 'Chegada.Prevista', 'Chegada.Real', 'Situacao.Voo',\n",
       "       'Codigo.Justificativa', 'Aeroporto.Origem', 'Cidade.Origem',\n",
       "       'Estado.Origem', 'Pais.Origem', 'Aeroporto.Destino', 'Cidade.Destino',\n",
       "       'Estado.Destino', 'Pais.Destino', 'LongDest', 'LatDest', 'LongOrig',\n",
       "       'LatOrig'],\n",
       "      dtype='object')"
      ]
     },
     "execution_count": 15,
     "metadata": {},
     "output_type": "execute_result"
    }
   ],
   "source": [
    "df.columns"
   ]
  },
  {
   "cell_type": "markdown",
   "metadata": {},
   "source": [
    "## Origem e destino dos voos"
   ]
  },
  {
   "cell_type": "code",
   "execution_count": 43,
   "metadata": {},
   "outputs": [
    {
     "data": {
      "text/plain": [
       "array(['Estados Unidos', 'Canada', 'Espanha', 'Franca', 'Colombia',\n",
       "       'Argentina', 'Italia', 'Guiana Francesa', 'Reino Unido', 'Bolivia',\n",
       "       'Alemanha', 'Panama', 'Angola', 'Emirados Arabes Unidos',\n",
       "       'Ethiopia', 'Suriname', 'Paraguai', 'Uruguai',\n",
       "       'Antilhas Holandesas', 'Venezuela', 'Barbados',\n",
       "       'Republica Dominicana', 'Chile', 'Holanda', 'Peru', 'Qatar',\n",
       "       'Marrocos', 'Africa Do Sul', 'Suica', 'Equador', 'Mexico',\n",
       "       'Portugal', 'Cabo Verde', 'Turquia', 'Guiana', 'Togo',\n",
       "       'Luxemburgo'], dtype=object)"
      ]
     },
     "execution_count": 43,
     "metadata": {},
     "output_type": "execute_result"
    }
   ],
   "source": [
    "#De quais cidades os  voos estão saindo?\n",
    "#df['Cidade.Origem'].unique()\n",
    "\n",
    "#De quais cidades do Brasil os voos estão saindo?\n",
    "#df[df['Pais.Origem'] == 'Brasil'].loc[:, 'Cidade.Origem'].unique()\n",
    "\n",
    "#Quais países estão vindo ao Brasil?\n",
    "df[df['Pais.Origem'] != 'Brasil'].loc[:, 'Pais.Origem'].unique()"
   ]
  },
  {
   "cell_type": "markdown",
   "metadata": {},
   "source": [
    "## Refinando a busca"
   ]
  },
  {
   "cell_type": "code",
   "execution_count": 16,
   "metadata": {},
   "outputs": [
    {
     "data": {
      "text/plain": [
       "Cidade.Destino\n",
       "Guarulhos                  19289\n",
       "Rio De Janeiro             13416\n",
       "Sao Paulo                  13162\n",
       "Sao Jose Dos Pinhais        7961\n",
       "Campinas                    7880\n",
       "Florianopolis               4561\n",
       "Brasilia                    4134\n",
       "Navegantes                  1786\n",
       "Confins                     1575\n",
       "Foz Do Iguacu               1346\n",
       "Pelotas                     1144\n",
       "Buenos Aires/Aeroparque      985\n",
       "Lima                         943\n",
       "Buenos Aires                 909\n",
       "Santa Maria                  878\n",
       "Panama                       866\n",
       "Chapeco                      752\n",
       "Montevideu                   646\n",
       "Uruguaiana                   552\n",
       "Salvador                     483\n",
       "Lisboa                       466\n",
       "Miami                        427\n",
       "Joinville                    316\n",
       "Maringa                      283\n",
       "Londrina                     188\n",
       "Passo Fundo                  179\n",
       "Varzea Grande                139\n",
       "Rio Largo                     57\n",
       "Goiania                       51\n",
       "Sao Jose Dos Campos           42\n",
       "Porto Seguro                  37\n",
       "Santo Angelo                  17\n",
       "Name: Voos, dtype: int64"
      ]
     },
     "execution_count": 16,
     "metadata": {},
     "output_type": "execute_result"
    }
   ],
   "source": [
    "CIDADE = 'Porto Alegre'\n",
    "\n",
    "df[df['Cidade.Origem'] == CIDADE].groupby('Cidade.Destino').Voos.count().sort_values(ascending=False)"
   ]
  },
  {
   "cell_type": "markdown",
   "metadata": {},
   "source": [
    "## Quantos voos atrasaram?"
   ]
  },
  {
   "cell_type": "code",
   "execution_count": 18,
   "metadata": {},
   "outputs": [
    {
     "name": "stdout",
     "output_type": "stream",
     "text": [
      "40.16264971864517\n"
     ]
    }
   ],
   "source": [
    "atrasados = df[df['Partida.Prevista'] != df['Partida.Real']].Voos.count()\n",
    "\n",
    "todos = len(df['Partida.Prevista'])\n",
    "\n",
    "print((atrasados / todos) * 100)"
   ]
  },
  {
   "cell_type": "markdown",
   "metadata": {},
   "source": [
    "## Quantos voos são feitos por cada companhia\n"
   ]
  },
  {
   "cell_type": "code",
   "execution_count": 14,
   "metadata": {},
   "outputs": [
    {
     "data": {
      "text/plain": [
       "Companhia.Aerea\n",
       "TAM                                                 68683\n",
       "GOL                                                 38801\n",
       "AMERICAN AIRLINES INC                               22975\n",
       "COPA -COMPANIA PANAMENA DE AVIACION                 21034\n",
       "TAP AIR PORTUGAL                                    18878\n",
       "AEROLINEAS ARGENTINAS                               16522\n",
       "UNITED AIRLINES                                      9269\n",
       "LAN CHILE                                            9141\n",
       "DELTA AIRLINES                                       9054\n",
       "AUSTRAL LINEAS AREAS CIELOS DEL SUR S.A             8941\n",
       "AZUL                                                 7283\n",
       "AIR FRANCE                                           6819\n",
       "TRASAMERICA  AIRLINES-TACAPERU                       5660\n",
       "EMIRATES                                             5646\n",
       "AVIANCA                                              5553\n",
       "LUFTHANSA                                            4974\n",
       "IBERIA                                               4090\n",
       "TAM TRANSP. AR. DEL. MERCOS                          3899\n",
       "BRITISH AIRWAYS PLC                                  3893\n",
       "ALITALIA                                             3805\n",
       "TURKISH AIRLINES INC.                                3530\n",
       "LAN PERU S/A                                         3527\n",
       "KLM ROYAL DUTCH AIRLINES                             3451\n",
       "QATAR AIRWAYS                                        3202\n",
       "SOUTH µFRICAN AIRWAYS                                2801\n",
       "AIR EUROPA S/A                                       2639\n",
       "LAN ARGENTINA S/A                                    2469\n",
       "AIR CANADA                                           2440\n",
       "AEROMEXICO                                           2189\n",
       "BOLIVIANA DE AVIACION                                1987\n",
       "TAAG LINHAS AEREAS DE ANGOLA                         1946\n",
       "SWISSAIR                                             1857\n",
       "NAO INFORMADO                                        1789\n",
       "ETIHAD                                               1666\n",
       "AIRES - LAN COLOMBIA                                 1215\n",
       "SURINAM AIRWAYS                                      1046\n",
       "KOREAN AIRLINES                                       988\n",
       "CONDOR FLUGDINST                                      980\n",
       "ROYAL AIR MAROC                                       965\n",
       "EMPRESA DE TRANSPORTES AEREOS DE CABO VERDE S.A.      913\n",
       "INSELAIR                                              826\n",
       "ETHIOPIAN                                             721\n",
       "US AIRWAYS INC.                                       628\n",
       "SINGAPORE AIRLINES                                    565\n",
       "AIR CHINA                                             540\n",
       "AVIANCA BRASIL                                        534\n",
       "EDELWEISS                                             268\n",
       "MERIDIANA                                             229\n",
       "LINEAS AE.COSTARRICENCES S/A                           95\n",
       "AIR ITALY SPA                                          34\n",
       "Name: Voos, dtype: int64"
      ]
     },
     "execution_count": 14,
     "metadata": {},
     "output_type": "execute_result"
    }
   ],
   "source": [
    "TIPO_DE_VOO = 'Internacional'\n",
    "\n",
    "df[df['Codigo.Tipo.Linha'] == TIPO_DE_VOO].groupby('Companhia.Aerea').Voos.count().sort_values(ascending=False)"
   ]
  },
  {
   "cell_type": "markdown",
   "metadata": {},
   "source": [
    "## Quais companhias atrasam mais em quais tipos de voos\n"
   ]
  },
  {
   "cell_type": "code",
   "execution_count": 20,
   "metadata": {},
   "outputs": [
    {
     "data": {
      "text/plain": [
       "Companhia.Aerea\n",
       "TAM                                                 6461\n",
       "AMERICAN AIRLINES INC                               4050\n",
       "GOL                                                 4025\n",
       "TRASAMERICA  AIRLINES-TACAPERU                      2723\n",
       "AVIANCA                                             2548\n",
       "AZUL                                                2460\n",
       "TAP AIR PORTUGAL                                    1847\n",
       "ALITALIA                                            1715\n",
       "DELTA AIRLINES                                      1603\n",
       "COPA -COMPANIA PANAMENA DE AVIACION                 1419\n",
       "TURKISH AIRLINES INC.                               1234\n",
       "AEROLINEAS ARGENTINAS                               1173\n",
       "TAAG LINHAS AEREAS DE ANGOLA                        1081\n",
       "UNITED AIRLINES                                      871\n",
       "AUSTRAL LINEAS AREAS CIELOS DEL SUR S.A             787\n",
       "AIR EUROPA S/A                                       716\n",
       "AIR FRANCE                                           671\n",
       "SOUTH µFRICAN AIRWAYS                                648\n",
       "TAM TRANSP. AR. DEL. MERCOS                          485\n",
       "KOREAN AIRLINES                                      456\n",
       "EMIRATES                                             448\n",
       "LAN CHILE                                            395\n",
       "LUFTHANSA                                            373\n",
       "KLM ROYAL DUTCH AIRLINES                             315\n",
       "ROYAL AIR MAROC                                      304\n",
       "QATAR AIRWAYS                                        292\n",
       "CONDOR FLUGDINST                                     292\n",
       "INSELAIR                                             269\n",
       "AIR CHINA                                            249\n",
       "AIR CANADA                                           245\n",
       "IBERIA                                               230\n",
       "ETIHAD                                               224\n",
       "AVIANCA BRASIL                                       171\n",
       "LAN ARGENTINA S/A                                    148\n",
       "BRITISH AIRWAYS PLC                                  147\n",
       "SURINAM AIRWAYS                                      137\n",
       "SWISSAIR                                             114\n",
       "LAN PERU S/A                                         109\n",
       "AEROMEXICO                                            98\n",
       "EMPRESA DE TRANSPORTES AEREOS DE CABO VERDE S.A.      67\n",
       "MERIDIANA                                             63\n",
       "NAO INFORMADO                                         62\n",
       "BOLIVIANA DE AVIACION                                 47\n",
       "LINEAS AE.COSTARRICENCES S/A                          42\n",
       "AIRES - LAN COLOMBIA                                  30\n",
       "SINGAPORE AIRLINES                                    20\n",
       "AIR ITALY SPA                                         17\n",
       "EDELWEISS                                             16\n",
       "ETHIOPIAN                                             13\n",
       "US AIRWAYS INC.                                       11\n",
       "Name: Voos, dtype: int64"
      ]
     },
     "execution_count": 20,
     "metadata": {},
     "output_type": "execute_result"
    }
   ],
   "source": [
    "TIPO_DE_VOO = 'Internacional'\n",
    "PAIS_DE_ORIGEM = 'Brasil'\n",
    "\n",
    "df[(df['Codigo.Tipo.Linha'] == TIPO_DE_VOO) & (df['Partida.Prevista'] != df['Partida.Real']) & (df['Pais.Origem'] == PAIS_DE_ORIGEM)].groupby('Companhia.Aerea').Voos.count().sort_values(ascending=False)"
   ]
  },
  {
   "cell_type": "code",
   "execution_count": null,
   "metadata": {},
   "outputs": [],
   "source": []
  }
 ],
 "metadata": {
  "kernelspec": {
   "display_name": "Python 3",
   "language": "python",
   "name": "python3"
  },
  "language_info": {
   "codemirror_mode": {
    "name": "ipython",
    "version": 3
   },
   "file_extension": ".py",
   "mimetype": "text/x-python",
   "name": "python",
   "nbconvert_exporter": "python",
   "pygments_lexer": "ipython3",
   "version": "3.7.0"
  }
 },
 "nbformat": 4,
 "nbformat_minor": 2
}
